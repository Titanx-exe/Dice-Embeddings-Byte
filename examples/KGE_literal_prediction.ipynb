{
 "cells": [
  {
   "cell_type": "markdown",
   "id": "e0e971f7",
   "metadata": {},
   "source": [
    "# Literal Prediction using interactive Knowledge Graph Embedding(KGE) model\n",
    "\n",
    "## Installation and dataset downloads\n",
    "To get started, install the required package and download the sample dataset using the commands below. Uncomment and run the code in the next cell **only when you need them**:\n",
    "\n",
    "- Install the `dicee` package.\n",
    "- Download and extract the `Literal_KGs` dataset.\n",
    "\n",
    "These steps are necessary before running the interactive KGE model."
   ]
  },
  {
   "cell_type": "code",
   "execution_count": null,
   "id": "fdc264b4",
   "metadata": {},
   "outputs": [
    {
     "name": "stdout",
     "output_type": "stream",
     "text": [
      "--2025-07-08 15:38:15--  https://files.dice-research.org/datasets/dice-embeddings/Literal_KGs.zip\n",
      "Resolving files.dice-research.org (files.dice-research.org)... 131.234.26.214\n",
      "Connecting to files.dice-research.org (files.dice-research.org)|131.234.26.214|:443... connected.\n",
      "HTTP request sent, awaiting response... 200 OK\n",
      "Length: 15112493 (14M) [application/zip]\n",
      "Saving to: ‘Literal_KGs.zip’\n",
      "\n",
      "Literal_KGs.zip     100%[===================>]  14.41M  91.9MB/s    in 0.2s    \n",
      "\n",
      "2025-07-08 15:38:15 (91.9 MB/s) - ‘Literal_KGs.zip’ saved [15112493/15112493]\n",
      "\n",
      "Archive:  Literal_KGs.zip\n",
      "   creating: Literal_KGs/Family/\n",
      "   creating: Literal_KGs/Family/literals/\n",
      "  inflating: Literal_KGs/Family/literals/test.txt  \n",
      "  inflating: Literal_KGs/Family/literals/train.txt  \n",
      "  inflating: Literal_KGs/Family/test.txt  \n",
      "  inflating: Literal_KGs/Family/valid.txt  \n",
      "  inflating: Literal_KGs/Family/train.txt  \n",
      "   creating: Literal_KGs/DB15K/\n",
      "   creating: Literal_KGs/DB15K/literals/\n",
      "  inflating: Literal_KGs/DB15K/literals/test.txt  \n",
      "  inflating: Literal_KGs/DB15K/literals/valid.txt  \n",
      "  inflating: Literal_KGs/DB15K/literals/train.txt  \n",
      "  inflating: Literal_KGs/DB15K/DB15K_EntityTriples.txt  \n",
      "  inflating: Literal_KGs/DB15K/DB15k_Numeric_triples_processed.txt  \n",
      "  inflating: Literal_KGs/DB15K/test.txt  \n",
      "  inflating: Literal_KGs/DB15K/valid.txt  \n",
      "  inflating: Literal_KGs/DB15K/train.txt  \n",
      "   creating: Literal_KGs/YAGO15k/\n",
      "   creating: Literal_KGs/YAGO15k/literals/\n",
      "  inflating: Literal_KGs/YAGO15k/literals/test.txt  \n",
      "  inflating: Literal_KGs/YAGO15k/literals/YAGO15K_Numerical_handled_rdup.txt  \n",
      "  inflating: Literal_KGs/YAGO15k/literals/valid.txt  \n",
      "  inflating: Literal_KGs/YAGO15k/literals/train.txt  \n",
      "  inflating: Literal_KGs/YAGO15k/test.txt  \n",
      "  inflating: Literal_KGs/YAGO15k/YAGO15k_EntityTriples.txt  \n",
      "  inflating: Literal_KGs/YAGO15k/valid.txt  \n",
      "  inflating: Literal_KGs/YAGO15k/train.txt  \n",
      "   creating: Literal_KGs/FB15k-237/\n",
      "   creating: Literal_KGs/FB15k-237/literals/\n",
      "  inflating: Literal_KGs/FB15k-237/literals/test.txt  \n",
      "  inflating: Literal_KGs/FB15k-237/literals/valid.txt  \n",
      "  inflating: Literal_KGs/FB15k-237/literals/train.txt  \n",
      "  inflating: Literal_KGs/FB15k-237/test.txt  \n",
      "  inflating: Literal_KGs/FB15k-237/valid.txt  \n",
      "  inflating: Literal_KGs/FB15k-237/FB15k-237_EntityTriples.txt  \n",
      "  inflating: Literal_KGs/FB15k-237/train.txt  \n"
     ]
    }
   ],
   "source": [
    "# !pip install dicee\n",
    "# !wget https://files.dice-research.org/datasets/dice-embeddings/Literal_KGs.zip --no-check-certificate && unzip Literal_KGs.zip -d Literal_KGs && rm Literal_KGs.zip\n",
    "# !echo \"examples/Literal_KGs/*\" >> ../.git/info/exclude"
   ]
  },
  {
   "cell_type": "code",
   "execution_count": 2,
   "id": "53be912e",
   "metadata": {},
   "outputs": [
    {
     "name": "stderr",
     "output_type": "stream",
     "text": [
      "Seed set to 0\n"
     ]
    },
    {
     "name": "stdout",
     "output_type": "stream",
     "text": [
      "Start time:2025-07-08 15:38:39.750386\n",
      "*** Read or Load Knowledge Graph  ***\n",
      "Not processed data: Literal_KGs/Family/literals\n",
      "*** Reading Literal_KGs/Family/test.txt with Pandas ***\n",
      "Reading with pandas.read_csv with sep ** s+ ** ...\n",
      "read_with_pandas took 0.0019 seconds | Current Memory Usage  786.33 in MB\n",
      "*** Reading Literal_KGs/Family/valid.txt with Pandas ***\n",
      "Reading with pandas.read_csv with sep ** s+ ** ...\n",
      "read_with_pandas took 0.0009 seconds | Current Memory Usage  786.33 in MB\n",
      "*** Reading Literal_KGs/Family/train.txt with Pandas ***\n",
      "Reading with pandas.read_csv with sep ** s+ ** ...\n",
      "read_with_pandas took 0.0013 seconds | Current Memory Usage  786.51 in MB\n",
      "Adding reciprocal triples to Train, e.g. KG:= (s, p, o) union (o, p_inverse, s)\n",
      "Adding reciprocal triples to Validation, e.g. KG:= (s, p, o) union (o, p_inverse, s)\n",
      "Adding reciprocal triples to Test, e.g. KG:= (s, p, o) union (o, p_inverse, s)\n",
      "Concatenating data to obtain index...\n",
      "Creating a mapping from entities to integer indexes...\n",
      "preprocess_with_pandas took 0.0068 seconds | Current Memory Usage  787.84 in MB\n",
      "Submit er-vocab, re-vocab, and ee-vocab via  ProcessPoolExecutor...\n"
     ]
    },
    {
     "name": "stderr",
     "output_type": "stream",
     "text": [
      "\n",
      "   | Name                             | Type              | Params | Mode \n",
      "--------------------------------------------------------------------------------\n",
      "0  | loss                             | BCEWithLogitsLoss | 0      | train\n",
      "1  | normalize_head_entity_embeddings | IdentityClass     | 0      | train\n",
      "2  | normalize_relation_embeddings    | IdentityClass     | 0      | train\n",
      "3  | normalize_tail_entity_embeddings | IdentityClass     | 0      | train\n",
      "4  | hidden_normalizer                | IdentityClass     | 0      | train\n",
      "5  | input_dp_ent_real                | Dropout           | 0      | train\n",
      "6  | input_dp_rel_real                | Dropout           | 0      | train\n",
      "7  | hidden_dropout                   | Dropout           | 0      | train\n",
      "8  | entity_embeddings                | Embedding         | 7.5 K  | train\n",
      "9  | relation_embeddings              | Embedding         | 384    | train\n",
      "10 | q_coefficients                   | Embedding         | 1      | train\n",
      "--------------------------------------------------------------------------------\n",
      "7.9 K     Trainable params\n",
      "0         Non-trainable params\n",
      "7.9 K     Total params\n",
      "0.031     Total estimated model params size (MB)\n",
      "11        Modules in train mode\n",
      "0         Modules in eval mode\n"
     ]
    },
    {
     "name": "stdout",
     "output_type": "stream",
     "text": [
      "Preprocessing took: 0.386 seconds\n",
      "\n",
      "------------------- Description of Dataset Literal_KGs/Family -------------------\n",
      "Number of entities:234\n",
      "Number of relations:12\n",
      "Number of triples on train set:3258\n",
      "Number of triples on valid set:406\n",
      "Number of triples on test set:406\n",
      "Entity Index:0.00001 in GB\n",
      "Relation Index:0.00000 in GB\n",
      "\n",
      "# of CPUs:22 | # of GPUs:0 | # of CPUs for dataloader:0\n",
      "------------------- Train -------------------\n",
      "Initializing TorchTrainer CPU Trainer...\tTook 0.0020 secs | Current Memory Usage  788.03 in MB\n",
      "Initializing Model...\tTook 0.0012 secs | Current Memory Usage  788.82 in MB\n",
      "Initializing Dataset...\tTook 0.0026 seconds\n",
      "Number of datapoints: 1078\n",
      "Took 0.0030 secs | Current Memory Usage  788.82 in MB\n",
      "Took 0.0073 secs | Current Memory Usage  789.36 in MB\n",
      "Initializing Dataloader...\tTook 0.0002 secs | Current Memory Usage  789.36 in MB\n",
      "Adam (\n",
      "Parameter Group 0\n",
      "    amsgrad: False\n",
      "    betas: (0.9, 0.999)\n",
      "    capturable: False\n",
      "    decoupled_weight_decay: False\n",
      "    differentiable: False\n",
      "    eps: 1e-08\n",
      "    foreach: None\n",
      "    fused: None\n",
      "    lr: 0.1\n",
      "    maximize: False\n",
      "    weight_decay: 0.0\n",
      ")\n",
      "\n",
      "Training is starting 2025-07-08 15:38:40.154684...\n",
      "NumOfDataPoints:1078 | NumOfEpochs:256 | LearningRate:0.1 | BatchSize:512 | EpochBatchsize:3\n"
     ]
    },
    {
     "name": "stderr",
     "output_type": "stream",
     "text": [
      "  0%|          | 0/256 [00:00<?, ?it/s]/home/rupezzz/miniconda3/envs/dice/lib/python3.10/site-packages/lightning/pytorch/core/module.py:441: You are trying to `self.log()` but the `self.trainer` reference is not registered on the model yet. This is most likely because the model hasn't been passed to the `Trainer`\n",
      "Epoch:256: 100%|██████████| 256/256 [00:09<00:00, 26.96it/s, loss_step=0.00005, loss_epoch=0.00007]\n"
     ]
    },
    {
     "name": "stdout",
     "output_type": "stream",
     "text": [
      "Training Runtime: 9.514 seconds.\n",
      "\n",
      "*** Save Trained Model ***\n",
      "Took 0.0016 secs | Current Memory Usage  804.9 in MB\n",
      "Total Runtime: 9.904 seconds\n",
      "Evaluate Keci on Train set: Evaluate Keci on Train set\n",
      "{'H@1': 1.0, 'H@3': 1.0, 'H@10': 1.0, 'MRR': 1.0}\n",
      "Evaluate Keci on Validation set: Evaluate Keci on Validation set\n",
      "{'H@1': 0.4039408866995074, 'H@3': 0.5714285714285714, 'H@10': 0.7733990147783252, 'MRR': 0.5222991507503748}\n",
      "Evaluate Keci on Test set: Evaluate Keci on Test set\n",
      "{'H@1': 0.4014778325123153, 'H@3': 0.5665024630541872, 'H@10': 0.7857142857142857, 'MRR': 0.5201011159666195}\n",
      "Total Runtime: 10.073 seconds\n"
     ]
    }
   ],
   "source": [
    "## Train KGE model\n",
    "from dicee.executer import Execute\n",
    "from dicee.config import Namespace\n",
    "from dicee.knowledge_graph_embeddings import KGE\n",
    "\n",
    "args = Namespace()\n",
    "args.model = 'Keci'\n",
    "args.optim = 'Adam'\n",
    "args.scoring_technique = \"AllvsAll\"\n",
    "args.dataset_dir = \"Literal_KGs/Family\"\n",
    "args.backend = \"pandas\"\n",
    "args.num_epochs = 256\n",
    "args.batch_size = 512\n",
    "args.lr = 0.1\n",
    "args.embedding_dim = 32\n",
    "args.trainer = \"TorchCPUTrainer\"\n",
    "args.scoring_technique = \"KvsAll\"\n",
    "result = Execute(args).start()"
   ]
  },
  {
   "cell_type": "markdown",
   "id": "10476eaf",
   "metadata": {},
   "source": [
    "## Training a Literal Embedding Model\n",
    "\n",
    "The Literal Embedding model is a simple, non-linear, 2-layer neural network used to predict numerical attributes by leveraging pretrained knowledge graph embeddings. The `train_literals` method is used to train the Literal Embedding model.\n",
    "\n",
    "**Configurable parameters include:**\n",
    "\n",
    "- `train_file_path` (str): Path to the training data file.\n",
    "- `num_epochs` (int): Number of training epochs.\n",
    "- `lit_lr` (float): Learning rate for the literal model.\n",
    "- `norm_type` (str): Normalization type to use (`'z-norm'`, `'min-max'`, or `None`).\n",
    "- `batch_size` (int): Batch size for training.\n",
    "- `sampling_ratio` (float): Ratio of training triples to use.\n",
    "- `loader_backend` (str): Backend for loading the dataset (`'pandas'` or `'rdflib'`).\n",
    "- `freeze_entity_embeddings` (bool): If `True`, freeze the entity embeddings during training.\n",
    "- `gate_residual` (bool): If `True`, use gate residual connections in the model.\n",
    "- `device` (str): Device to use for training (`'cuda'` or `'cpu'`). If `None`, will use available GPU or CPU.\n"
   ]
  },
  {
   "cell_type": "code",
   "execution_count": 3,
   "id": "7983bda1",
   "metadata": {},
   "outputs": [
    {
     "name": "stdout",
     "output_type": "stream",
     "text": [
      "Training Literal Embedding modelusing pre-trained 'Keci' embeddings.\n"
     ]
    },
    {
     "name": "stderr",
     "output_type": "stream",
     "text": [
      "100%|██████████| 200/200 [00:04<00:00, 49.55it/s, loss_lit=0.09070]"
     ]
    },
    {
     "name": "stdout",
     "output_type": "stream",
     "text": [
      "Literal Embedding model saved to /home/rupezzz/rupezzz/Libraries/dice-embeddings/examples/Experiments/2025-07-08 15-38-39.750238/literal_model.pt\n"
     ]
    },
    {
     "name": "stderr",
     "output_type": "stream",
     "text": [
      "\n"
     ]
    }
   ],
   "source": [
    "# Load the Model\n",
    "pre_trained_kge = KGE(path=result['path_experiment_folder'])\n",
    "\n",
    "# path for literal training file\n",
    "train_file_path=\"Literal_KGs/Family/literals/train.txt\"\n",
    "\n",
    "# Train with literals\n",
    "pre_trained_kge.train_literals(train_file_path=train_file_path,\n",
    "                               lit_lr= 0.001,\n",
    "                               lit_normalization_type=\"z-norm\",\n",
    "                               loader_backend=\"pandas\",\n",
    "                               num_epochs=200,\n",
    "                               batch_size=50,\n",
    "                            device='cpu')"
   ]
  },
  {
   "cell_type": "markdown",
   "id": "d3c38fa9",
   "metadata": {},
   "source": [
    "## Predicting Numerical attributes of Entites\n",
    " The `predict_literals` method can be used to generate predictions for  (entity, attribute) pairs. "
   ]
  },
  {
   "cell_type": "code",
   "execution_count": 4,
   "id": "275054b9",
   "metadata": {},
   "outputs": [
    {
     "name": "stdout",
     "output_type": "stream",
     "text": [
      "Predicted Height for entity F7F111 : 136.72\n"
     ]
    }
   ],
   "source": [
    "# Path to the evaluation file containing test triples with literals\n",
    "eval_file_path = \"Literal_KGs/Family/literals/test.txt\"\n",
    "\n",
    "# Load and validate the literal data from the test file\n",
    "test_df_unfiltered = pre_trained_kge.literal_dataset.load_and_validate_literal_data(\n",
    "    file_path=eval_file_path, loader_backend=\"pandas\"\n",
    ")\n",
    "\n",
    "# Filter test data to include only entities and attributes present in the trained model\n",
    "test_df = test_df_unfiltered[\n",
    "    test_df_unfiltered[\"head\"].isin(pre_trained_kge.entity_to_idx.keys()) &\n",
    "    test_df_unfiltered[\"attribute\"].isin(pre_trained_kge.data_property_to_idx.keys())\n",
    "]\n",
    "\n",
    "# Prepare lists of entities and attributes for prediction\n",
    "entities = test_df[\"head\"].to_list()\n",
    "attributes = test_df[\"attribute\"].to_list()\n",
    "\n",
    "# Ensure there are valid entities and attributes for prediction\n",
    "assert len(entities) > 0, \"No valid entities in test set — check entity_to_idx.\"\n",
    "assert len(attributes) > 0, \"No valid attributes in test set — check data_property_to_idx.\"\n",
    "\n",
    "# Single prediction for the first (entity, attribute) pair in the test set\n",
    "single_prediction_result = pre_trained_kge.predict_literals(\n",
    "    entity=entities[0], attribute=attributes[0]\n",
    ")[0]\n",
    "print(f\"Predicted {attributes[0]} for entity {entities[0]} : {single_prediction_result:.2f}\")\n",
    "\n"
   ]
  },
  {
   "cell_type": "markdown",
   "id": "6690bb5f",
   "metadata": {},
   "source": [
    "## Literal Prediction for a batch of entity-attribute pairs"
   ]
  },
  {
   "cell_type": "code",
   "execution_count": 5,
   "id": "ea3b0734",
   "metadata": {},
   "outputs": [
    {
     "name": "stdout",
     "output_type": "stream",
     "text": [
      "     head attribute  value  predictions\n",
      "0  F7F111    Height    148   138.711743\n",
      "1   F2M34       Age     33    27.811532\n",
      "2  F6M100    Weight     43    67.421989\n",
      "3  F9F160    Weight     61    65.300734\n",
      "4  F9M161       Age     13     2.740002\n",
      "5  F7M115       Age     34    60.419612\n",
      "6    F1F2    Height    169   156.284438\n",
      "7   F6F93       Age     61    46.676809\n",
      "8   F6M98       Age     45    39.479671\n",
      "9  F7F106       Age     43    53.049888\n"
     ]
    }
   ],
   "source": [
    "#batch prediction\n",
    "test_df[\"predictions\"] = pre_trained_kge.predict_literals(\n",
    "    entity=entities, attribute=attributes\n",
    ")\n",
    "print(test_df[[\"head\", \"attribute\", \"value\", \"predictions\"]].head(10))"
   ]
  },
  {
   "cell_type": "markdown",
   "id": "d39cc5d2",
   "metadata": {},
   "source": [
    "## Evaluation of Literal Prediction\n",
    "\n",
    "`evaluate_literal_prediction` method can be used to evaluate the perfromance of Literal Embedding model. The Mean Absolute Error (MAE) and Root Mean Squared Error (RMSE) metrics are used for evalution.\n"
   ]
  },
  {
   "cell_type": "code",
   "execution_count": 6,
   "id": "c05cd918",
   "metadata": {},
   "outputs": [
    {
     "name": "stdout",
     "output_type": "stream",
     "text": [
      "Literal-Prediction evaluation results  on Test Set\n",
      "  attribute       MAE      RMSE\n",
      "0       Age 13.480955 20.339856\n",
      "1    Height 15.297559 18.382187\n",
      "2    Weight  9.775126 11.967925\n",
      "Literal-Prediction evaluation results saved to /home/rupezzz/rupezzz/Libraries/dice-embeddings/examples/Experiments/2025-07-08 15-38-39.750238/lit_eval_results.csv\n"
     ]
    }
   ],
   "source": [
    "from dicee.eval_static_funcs import evaluate_literal_prediction\n",
    "eval_file_path = \"Literal_KGs/Family/literals/test.txt\"\n",
    "        \n",
    "# Evaluate literal predictions\n",
    "lit_prediction_errors = evaluate_literal_prediction(\n",
    "    kge_model=pre_trained_kge,\n",
    "    eval_file_path=eval_file_path,\n",
    "    eval_literals=True,\n",
    "    store_lit_preds = False,\n",
    "    loader_backend = \"pandas\",\n",
    "    return_attr_error_metrics = True)"
   ]
  },
  {
   "cell_type": "markdown",
   "id": "7cad356e",
   "metadata": {},
   "source": [
    "## Remove Literals KGs "
   ]
  },
  {
   "cell_type": "code",
   "execution_count": null,
   "id": "7a1de9e6",
   "metadata": {},
   "outputs": [],
   "source": [
    "! rm -rf Literal_KGs\n",
    "! rm -rf Experiments"
   ]
  }
 ],
 "metadata": {
  "kernelspec": {
   "display_name": "dice",
   "language": "python",
   "name": "python3"
  },
  "language_info": {
   "codemirror_mode": {
    "name": "ipython",
    "version": 3
   },
   "file_extension": ".py",
   "mimetype": "text/x-python",
   "name": "python",
   "nbconvert_exporter": "python",
   "pygments_lexer": "ipython3",
   "version": "3.10.13"
  }
 },
 "nbformat": 4,
 "nbformat_minor": 5
}
